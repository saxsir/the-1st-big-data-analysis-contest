{
 "cells": [
  {
   "cell_type": "code",
   "execution_count": 145,
   "metadata": {
    "collapsed": false
   },
   "outputs": [],
   "source": [
    "import math\n",
    "from math import pow\n",
    "import pandas as pd\n",
    "import numpy as np\n",
    "import scipy as sp\n",
    "import sklearn as sk\n",
    "from sklearn import preprocessing, cross_validation, linear_model, datasets\n",
    "from sklearn.grid_search import GridSearchCV\n",
    "import matplotlib.pyplot as plt"
   ]
  },
  {
   "cell_type": "code",
   "execution_count": 158,
   "metadata": {
    "collapsed": false
   },
   "outputs": [],
   "source": [
    "# データ読み込み\n",
    "boston = datasets.load_boston()\n",
    "X_train = boston.data[:-20]\n",
    "y_train = boston.target[:-20]\n",
    "X_test = boston.data[-20:]\n",
    "y_test = boston.target[-20:]"
   ]
  },
  {
   "cell_type": "code",
   "execution_count": 159,
   "metadata": {
    "collapsed": false
   },
   "outputs": [
    {
     "name": "stdout",
     "output_type": "stream",
     "text": [
      "# best_estimator: \n",
      " LinearRegression(copy_X=True, fit_intercept=True, n_jobs=1, normalize=True)\n",
      "# best_score: \n",
      " -0.168562000211\n",
      "# best_params: \n",
      " {'normalize': True}\n",
      "# Coefficients: \n",
      " [ -1.01939810e-01   4.94888480e-02   2.33211595e-02   2.59303688e+00\n",
      "  -1.68214723e+01   3.76487853e+00   6.86236795e-03  -1.45762710e+00\n",
      "   3.50148357e-01  -1.56920780e-02  -9.03727306e-01   9.04441274e-03\n",
      "  -5.52819289e-01]\n",
      "# MSE(mean square error): 17.89\n",
      "# Variance score: 0.23\n"
     ]
    }
   ],
   "source": [
    "# 線形回帰\n",
    "regr = GridSearchCV(linear_model.LinearRegression(), {\n",
    "        'normalize': [True, False],\n",
    "    }, cv=36)\n",
    "regr.fit(X_train, y_train)\n",
    "\n",
    "print('# best_estimator: \\n', regr.best_estimator_)\n",
    "print('# best_score: \\n', regr.best_score_)\n",
    "print('# best_params: \\n', regr.best_params_)\n",
    "print('# Coefficients: \\n', regr.best_estimator_.coef_)\n",
    "print(\"# MSE(mean square error): %.2f\"\n",
    "      % np.mean((regr.predict(X_test) - y_test) ** 2))\n",
    "print('# Variance score: %.2f' % regr.score(X_test, y_test))"
   ]
  },
  {
   "cell_type": "code",
   "execution_count": null,
   "metadata": {
    "collapsed": false
   },
   "outputs": [],
   "source": []
  },
  {
   "cell_type": "code",
   "execution_count": 160,
   "metadata": {
    "collapsed": false
   },
   "outputs": [
    {
     "name": "stdout",
     "output_type": "stream",
     "text": [
      "# best_estimator: \n",
      " Lasso(alpha=0.1, copy_X=True, fit_intercept=True, max_iter=1000,\n",
      "   normalize=False, positive=False, precompute=False, random_state=None,\n",
      "   selection='cyclic', tol=0.0001, warm_start=False)\n",
      "# best_score: \n",
      " -0.0803919187638\n",
      "# best_params: \n",
      " {'alpha': 0.1, 'normalize': False}\n",
      "# Coefficients: \n",
      " [ -9.14780603e-02   5.26807405e-02  -3.54544813e-02   9.11322169e-01\n",
      "  -0.00000000e+00   3.63075251e+00  -3.19460549e-03  -1.18401996e+00\n",
      "   3.40781412e-01  -1.90958962e-02  -7.22452070e-01   9.83207844e-03\n",
      "  -5.98078291e-01]\n",
      "# MSE(mean square error): 23.26\n",
      "# Variance score: 0.01\n"
     ]
    }
   ],
   "source": [
    "# Lasso回帰\n",
    "regr = GridSearchCV(linear_model.Lasso(), {\n",
    "        'alpha': [pow(10, -4), pow(10, -3), pow(10, -2), pow(10, -1), 1.0],\n",
    "        'normalize': [True, False],\n",
    "    }, cv=36)\n",
    "regr.fit(X_train, y_train)\n",
    "\n",
    "print('# best_estimator: \\n', regr.best_estimator_)\n",
    "print('# best_score: \\n', regr.best_score_)\n",
    "print('# best_params: \\n', regr.best_params_)\n",
    "print('# Coefficients: \\n', regr.best_estimator_.coef_)\n",
    "print(\"# MSE(mean square error): %.2f\"\n",
    "      % np.mean((regr.predict(X_test) - y_test) ** 2))\n",
    "print('# Variance score: %.2f' % regr.score(X_test, y_test))"
   ]
  },
  {
   "cell_type": "code",
   "execution_count": 161,
   "metadata": {
    "collapsed": false
   },
   "outputs": [
    {
     "name": "stdout",
     "output_type": "stream",
     "text": [
      "# best_estimator: \n",
      " ElasticNet(alpha=0.001, copy_X=True, fit_intercept=True, l1_ratio=0.1,\n",
      "      max_iter=1000, normalize=True, positive=False, precompute=False,\n",
      "      random_state=None, selection='cyclic', tol=0.0001, warm_start=False)\n",
      "# best_score: \n",
      " 0.0087481148524\n",
      "# best_params: \n",
      " {'l1_ratio': 0.1, 'alpha': 0.001, 'normalize': True}\n",
      "# Coefficients: \n",
      " [ -6.75993182e-02   2.07652154e-02  -6.39393458e-02   2.69410392e+00\n",
      "  -5.36039532e+00   3.63207870e+00  -5.68874106e-03  -5.29484927e-01\n",
      "   2.36535451e-02  -2.90582039e-03  -6.45318718e-01   7.65585291e-03\n",
      "  -3.54689680e-01]\n",
      "# MSE(mean square error): 12.75\n",
      "# Variance score: 0.45\n"
     ]
    }
   ],
   "source": [
    "# ElasticNet\n",
    "regr = GridSearchCV(linear_model.ElasticNet(), {\n",
    "        'alpha': [pow(10, -4), pow(10, -3), pow(10, -2), pow(10, -1), 1.0],\n",
    "        'l1_ratio': [pow(10, -4), pow(10, -3), pow(10, -2), pow(10, -1), 1.0],\n",
    "        'normalize': [True, False],\n",
    "    }, cv=36)\n",
    "regr.fit(X_train, y_train)\n",
    "\n",
    "print('# best_estimator: \\n', regr.best_estimator_)\n",
    "print('# best_score: \\n', regr.best_score_)\n",
    "print('# best_params: \\n', regr.best_params_)\n",
    "print('# Coefficients: \\n', regr.best_estimator_.coef_)\n",
    "print(\"# MSE(mean square error): %.2f\"\n",
    "      % np.mean((regr.predict(X_test) - y_test) ** 2))\n",
    "# Explained variance score: 1 is perfect prediction\n",
    "print('# Variance score: %.2f' % regr.score(X_test, y_test))"
   ]
  },
  {
   "cell_type": "code",
   "execution_count": null,
   "metadata": {
    "collapsed": true
   },
   "outputs": [],
   "source": []
  },
  {
   "cell_type": "code",
   "execution_count": null,
   "metadata": {
    "collapsed": true
   },
   "outputs": [],
   "source": []
  }
 ],
 "metadata": {
  "kernelspec": {
   "display_name": "Python 3",
   "language": "python",
   "name": "python3"
  },
  "language_info": {
   "codemirror_mode": {
    "name": "ipython",
    "version": 3
   },
   "file_extension": ".py",
   "mimetype": "text/x-python",
   "name": "python",
   "nbconvert_exporter": "python",
   "pygments_lexer": "ipython3",
   "version": "3.5.1"
  }
 },
 "nbformat": 4,
 "nbformat_minor": 0
}
