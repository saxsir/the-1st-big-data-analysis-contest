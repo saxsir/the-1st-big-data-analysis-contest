{
 "cells": [
  {
   "cell_type": "code",
   "execution_count": 123,
   "metadata": {
    "collapsed": true
   },
   "outputs": [],
   "source": [
    "import math\n",
    "from math import pow\n",
    "import pandas as pd\n",
    "import numpy as np\n",
    "import scipy as sp\n",
    "import sklearn as sk\n",
    "from sklearn import preprocessing, cross_validation, linear_model, datasets\n",
    "from sklearn.grid_search import GridSearchCV"
   ]
  },
  {
   "cell_type": "code",
   "execution_count": 45,
   "metadata": {
    "collapsed": false
   },
   "outputs": [],
   "source": [
    "boston = datasets.load_boston()\n",
    "\n",
    "data_train = boston.data\n",
    "answer_train = boston.target\n",
    "\n",
    "X = data_train\n",
    "y = answer_train"
   ]
  },
  {
   "cell_type": "code",
   "execution_count": 119,
   "metadata": {
    "collapsed": false
   },
   "outputs": [
    {
     "name": "stdout",
     "output_type": "stream",
     "text": [
      "# best_estimator\n",
      "LinearRegression(copy_X=True, fit_intercept=True, n_jobs=1, normalize=True)\n",
      "# best_score\n",
      "0.0233503430484\n",
      "# best_params\n",
      "{'normalize': True}\n"
     ]
    }
   ],
   "source": [
    "# 線形回帰\n",
    "clf = GridSearchCV(linear_model.LinearRegression(), {\n",
    "        'normalize': [True, False],\n",
    "    }, cv=36)\n",
    "clf.fit(X, y)\n",
    "\n",
    "print('# best_estimator')\n",
    "print(clf.best_estimator_)\n",
    "print('# best_score')\n",
    "print(clf.best_score_)\n",
    "print('# best_params')\n",
    "print(clf.best_params_)"
   ]
  },
  {
   "cell_type": "code",
   "execution_count": 120,
   "metadata": {
    "collapsed": false
   },
   "outputs": [
    {
     "name": "stdout",
     "output_type": "stream",
     "text": [
      "# best_estimator\n",
      "Lasso(alpha=0.01, copy_X=True, fit_intercept=True, max_iter=1000,\n",
      "   normalize=False, positive=False, precompute=False, random_state=None,\n",
      "   selection='cyclic', tol=0.0001, warm_start=False)\n",
      "# best_score\n",
      "0.0418150956956\n",
      "# best_params\n",
      "{'alpha': 0.01, 'normalize': False}\n"
     ]
    }
   ],
   "source": [
    "# Lasso回帰\n",
    "clf = GridSearchCV(linear_model.Lasso(), {\n",
    "        'alpha': [pow(10, -4), pow(10, -3), pow(10, -2), pow(10, -1), 1.0],\n",
    "        'normalize': [True, False],\n",
    "    }, cv=36)\n",
    "clf.fit(X, y)\n",
    "\n",
    "print('# best_estimator')\n",
    "print(clf.best_estimator_)\n",
    "print('# best_score')\n",
    "print(clf.best_score_)\n",
    "print('# best_params')\n",
    "print(clf.best_params_)"
   ]
  },
  {
   "cell_type": "code",
   "execution_count": 121,
   "metadata": {
    "collapsed": false
   },
   "outputs": [
    {
     "name": "stdout",
     "output_type": "stream",
     "text": [
      "# best_estimator\n",
      "ElasticNet(alpha=0.001, copy_X=True, fit_intercept=True, l1_ratio=0.1,\n",
      "      max_iter=1000, normalize=True, positive=False, precompute=False,\n",
      "      random_state=None, selection='cyclic', tol=0.0001, warm_start=False)\n",
      "# best_score\n",
      "0.0776819794651\n",
      "# best_params\n",
      "{'l1_ratio': 0.1, 'alpha': 0.001, 'normalize': True}\n"
     ]
    }
   ],
   "source": [
    "# ElasticNet\n",
    "clf = GridSearchCV(linear_model.ElasticNet(), {\n",
    "        'alpha': [pow(10, -4), pow(10, -3), pow(10, -2), pow(10, -1), 1.0],\n",
    "        'l1_ratio': [pow(10, -4), pow(10, -3), pow(10, -2), pow(10, -1), 1.0],\n",
    "        'normalize': [True, False],\n",
    "    }, cv=36)\n",
    "clf.fit(X, y)\n",
    "\n",
    "print('# best_estimator')\n",
    "print(clf.best_estimator_)\n",
    "print('# best_score')\n",
    "print(clf.best_score_)\n",
    "print('# best_params')\n",
    "print(clf.best_params_)"
   ]
  },
  {
   "cell_type": "code",
   "execution_count": null,
   "metadata": {
    "collapsed": true
   },
   "outputs": [],
   "source": []
  },
  {
   "cell_type": "code",
   "execution_count": null,
   "metadata": {
    "collapsed": true
   },
   "outputs": [],
   "source": []
  }
 ],
 "metadata": {
  "kernelspec": {
   "display_name": "Python 3",
   "language": "python",
   "name": "python3"
  },
  "language_info": {
   "codemirror_mode": {
    "name": "ipython",
    "version": 3
   },
   "file_extension": ".py",
   "mimetype": "text/x-python",
   "name": "python",
   "nbconvert_exporter": "python",
   "pygments_lexer": "ipython3",
   "version": "3.5.1"
  }
 },
 "nbformat": 4,
 "nbformat_minor": 0
}
