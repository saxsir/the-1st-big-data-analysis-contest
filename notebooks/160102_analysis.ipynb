{
 "cells": [
  {
   "cell_type": "code",
   "execution_count": 39,
   "metadata": {
    "collapsed": false
   },
   "outputs": [],
   "source": [
    "import pandas as pd\n",
    "import numpy as np\n",
    "import scipy as sp\n",
    "import sklearn as sk\n",
    "from sklearn.grid_search import GridSearchCV\n",
    "from sklearn import ensemble\n",
    "\n",
    "import datetime\n",
    "import math\n",
    "import pprint\n",
    "pp = pprint.PrettyPrinter(indent=4)"
   ]
  },
  {
   "cell_type": "code",
   "execution_count": 40,
   "metadata": {
    "collapsed": false
   },
   "outputs": [],
   "source": [
    "\"\"\"\n",
    "# 方針\n",
    "* 週単位／曜日別で観光客が変動すると仮定する\n",
    "  * e.g. 6月第1週, 6月第2週 とかでカラムを分ける\n",
    "  * 曜日でカラムを分ける\n",
    "\n",
    "\"\"\"\n",
    "None"
   ]
  },
  {
   "cell_type": "code",
   "execution_count": 41,
   "metadata": {
    "collapsed": true
   },
   "outputs": [],
   "source": [
    "# 観光宿泊者数データ\n",
    "target_train = pd.read_csv('../data/original/target/target_train.csv')\n",
    "target_location = pd.read_csv('../data/original/target/target_location.tsv', delimiter='\\t')\n",
    "prefecture_master = pd.read_csv('../data/original/target/prefecture_master.tsv', delimiter='\\t', header=None, names=['code', 'prefecture'])\n",
    "category = pd.read_csv('../data/original/target/category.csv')\n",
    "category_master = pd.read_csv('../data/original/target/category_master.tsv', delimiter='\\t', header=None, names=['code', 'category'])"
   ]
  },
  {
   "cell_type": "code",
   "execution_count": 42,
   "metadata": {
    "collapsed": false
   },
   "outputs": [],
   "source": [
    "def iso_date(s):\n",
    "    return datetime.datetime.strptime(s, '%Y-%m-%d').isocalendar()\n",
    "\n",
    "target_train['iso_year'] = target_train['date'].map(lambda s: iso_date(s)[0])\n",
    "target_train['iso_week'] = target_train['date'].map(lambda s: iso_date(s)[1])\n",
    "target_train['iso_weekday'] = target_train['date'].map(lambda s: iso_date(s)[2])"
   ]
  },
  {
   "cell_type": "code",
   "execution_count": 43,
   "metadata": {
    "collapsed": false
   },
   "outputs": [],
   "source": [
    "## 学習用データ\n",
    "X = pd.DataFrame()\n",
    "X = pd.concat((X, pd.get_dummies(target_train['iso_year'])), axis=1)\n",
    "X = pd.concat((X, pd.get_dummies(target_train['iso_week'])), axis=1)\n",
    "X = pd.concat((X, pd.get_dummies(target_train['iso_weekday'])), axis=1)\n",
    "\n",
    "n_cv=round(math.log2(len(X.columns)) * 4)\n",
    "\n",
    "y = target_train[[\n",
    "        '01202_total', '04100_total', '13102_total', '14382_total', '14384_total', '16201_total', '17201_total',\n",
    "        '22205_total', '24203_total', '26100_total', '32203_total', '34100_total', '42201_total', '47207_total', \n",
    "        '01202_inbound', '04100_inbound', '13102_inbound', '14382_inbound', '14384_inbound', '16201_inbound', '17201_inbound',\n",
    "        '22205_inbound', '24203_inbound', '26100_inbound', '32203_inbound', '34100_inbound', '42201_inbound', '47207_inbound', \n",
    "    ]]"
   ]
  },
  {
   "cell_type": "code",
   "execution_count": 44,
   "metadata": {
    "collapsed": false
   },
   "outputs": [
    {
     "name": "stdout",
     "output_type": "stream",
     "text": [
      "# grid_scores:\n",
      "[   mean: -0.16678, std: 1.15455, params: {'max_features': 'sqrt', 'n_estimators': 10},\n",
      "    mean: -0.14108, std: 1.20917, params: {'max_features': 'sqrt', 'n_estimators': 100},\n",
      "    mean: -0.12776, std: 1.13843, params: {'max_features': 'sqrt', 'n_estimators': 1000},\n",
      "    mean: -0.27061, std: 1.27345, params: {'max_features': 'log2', 'n_estimators': 10},\n",
      "    mean: -0.16390, std: 1.22009, params: {'max_features': 'log2', 'n_estimators': 100},\n",
      "    mean: -0.14262, std: 1.15264, params: {'max_features': 'log2', 'n_estimators': 1000},\n",
      "    mean: -0.06044, std: 0.93968, params: {'max_features': 'auto', 'n_estimators': 10},\n",
      "    mean: -0.07627, std: 1.01294, params: {'max_features': 'auto', 'n_estimators': 100},\n",
      "    mean: -0.06661, std: 1.01200, params: {'max_features': 'auto', 'n_estimators': 1000}]\n",
      "# best_estimator: \n",
      " RandomForestRegressor(bootstrap=True, criterion='mse', max_depth=None,\n",
      "           max_features='auto', max_leaf_nodes=None, min_samples_leaf=1,\n",
      "           min_samples_split=2, min_weight_fraction_leaf=0.0,\n",
      "           n_estimators=10, n_jobs=1, oob_score=False, random_state=None,\n",
      "           verbose=0, warm_start=False)\n",
      "# best_score: \n",
      " -0.0604399950273\n",
      "# best_params: \n",
      " {'max_features': 'auto', 'n_estimators': 10}\n",
      "# feature_importances: \n",
      " [ 0.02677412  0.01460864  0.10021621  0.01000023  0.01706583  0.0175115\n",
      "  0.00932995  0.00530362  0.00444978  0.00466966  0.00828149  0.002426\n",
      "  0.00243824  0.0066512   0.01548669  0.0318167   0.00921438  0.00560178\n",
      "  0.0028431   0.01894468  0.04230823  0.00348208  0.00369855  0.01952025\n",
      "  0.00354322  0.00210073  0.00120447  0.00188638  0.00788961  0.00884234\n",
      "  0.01509966  0.00703693  0.00850714  0.00772306  0.05285325  0.00741164\n",
      "  0.00851273  0.00225135  0.01155484  0.01037203  0.00325327  0.00187045\n",
      "  0.01351979  0.00514618  0.0048537   0.00979984  0.00232505  0.00263198\n",
      "  0.01299659  0.01011222  0.00866758  0.0051474   0.01316319  0.00556976\n",
      "  0.0253311   0.01326452  0.0066355   0.01934255  0.03079832  0.14634651\n",
      "  0.11979221]\n"
     ]
    }
   ],
   "source": [
    "# ランダムフォレスト\n",
    "regr = GridSearchCV(ensemble.RandomForestRegressor(), {\n",
    "        'n_estimators': [10, 100, 1000],\n",
    "        'max_features': ['sqrt', 'log2', 'auto']\n",
    "    }, n_jobs=-1, cv=n_cv)\n",
    "regr.fit(X, y)\n",
    "\n",
    "print('# grid_scores:')\n",
    "pp.pprint(regr.grid_scores_)\n",
    "print('# best_estimator: \\n', regr.best_estimator_)\n",
    "print('# best_score: \\n', regr.best_score_)\n",
    "print('# best_params: \\n', regr.best_params_)\n",
    "print('# feature_importances: \\n', regr.best_estimator_.feature_importances_)"
   ]
  },
  {
   "cell_type": "code",
   "execution_count": 93,
   "metadata": {
    "collapsed": false
   },
   "outputs": [],
   "source": [
    "# 推測\n",
    "submit = pd.read_csv('../data/original/sample_submit.csv', names=[\n",
    "        \"date\",\n",
    "        \"total_1\", \"total_2\", \"total_3\", \"total_4\", \"total_5\", \"total_6\", \"total_7\",\n",
    "        \"total_8\", \"total_9\", \"total_10\", \"total_11\", \"total_12\", \"total_13\", \"total_14\",\n",
    "        \"inbound_1\", \"inbound_2\", \"inbound_3\", \"inbound_4\", \"inbound_5\", \"inbound_6\", \"inbound_7\",\n",
    "        \"inbound_8\", \"inbound_9\", \"inbound_10\", \"inbound_11\", \"inbound_12\", \"inbound_13\", \"inbound_14\"\n",
    "    ])\n",
    "submit['iso_year'] = submit['date'].map(lambda s: iso_date(s)[0])\n",
    "submit['iso_week'] = submit['date'].map(lambda s: iso_date(s)[1])\n",
    "submit['iso_weekday'] = submit['date'].map(lambda s: iso_date(s)[2])\n",
    "\n",
    "X_target = pd.DataFrame(data=np.zeros((len(submit), len(X.columns))), columns=X.columns.values)\n",
    "for key in ['iso_year', 'iso_week', 'iso_weekday']:\n",
    "    dm = pd.get_dummies(submit[key])\n",
    "    X_target[dm.columns] = dm\n",
    "    \n",
    "p = regr.best_estimator_.predict(X_target)\n",
    "output = pd.concat((submit['date'], pd.DataFrame(data=p)), axis=1)\n",
    "fname = datetime.datetime.now().strftime('%y%m%d_%H%M-submit') + '.csv'\n",
    "output.to_csv('../data/submit/' + fname, header=None, index=None)"
   ]
  },
  {
   "cell_type": "code",
   "execution_count": 123,
   "metadata": {
    "collapsed": true
   },
   "outputs": [],
   "source": []
  },
  {
   "cell_type": "code",
   "execution_count": null,
   "metadata": {
    "collapsed": false
   },
   "outputs": [],
   "source": [
    "# AdaBoost\n",
    "regr = GridSearchCV(ensemble.AdaBoostRegressor(), {\n",
    "        'n_estimators': [10, 100, 1000, 10000],\n",
    "        'loss': ['linear', 'square', 'exponential']\n",
    "    }, n_jobs=-1, cv=round(math.log2(365) * 4))\n",
    "regr.fit(X, y)\n",
    "\n",
    "print('# grid_scores:')\n",
    "pp.pprint(regr.grid_scores_)\n",
    "print('# best_estimator: \\n', regr.best_estimator_)\n",
    "print('# best_score: \\n', regr.best_score_)\n",
    "print('# best_params: \\n', regr.best_params_)\n",
    "print('# feature_importances: \\n', regr.best_estimator_.feature_importances_)"
   ]
  },
  {
   "cell_type": "code",
   "execution_count": null,
   "metadata": {
    "collapsed": true
   },
   "outputs": [],
   "source": [
    "# Bagging\n",
    "regr = GridSearchCV(ensemble.BaggingRegressor(), {\n",
    "        'n_estimators': [10, 100, 1000, 10000],\n",
    "        'max_samples': [1.0],\n",
    "        'max_features': [1.0]\n",
    "    }, n_jobs=-1, cv=round(math.log2(365) * 4))\n",
    "regr.fit(X, y)\n",
    "\n",
    "print('# grid_scores:')\n",
    "pp.pprint(regr.grid_scores_)\n",
    "print('# best_estimator: \\n', regr.best_estimator_)\n",
    "print('# best_score: \\n', regr.best_score_)\n",
    "print('# best_params: \\n', regr.best_params_)\n",
    "print('# feature_importances: \\n', regr.best_estimator_.feature_importances_)"
   ]
  },
  {
   "cell_type": "code",
   "execution_count": null,
   "metadata": {
    "collapsed": true
   },
   "outputs": [],
   "source": [
    "# ExtraTrees\n",
    "regr = GridSearchCV(ensemble.ExtraTreesRegressor(), {\n",
    "        'n_estimators': [10, 100, 1000, 10000],\n",
    "        'max_features': ['log2', 'sqrt', 'auto']\n",
    "    }, n_jobs=-1, cv=round(math.log2(365) * 4))\n",
    "regr.fit(X, y)\n",
    "\n",
    "print('# grid_scores:')\n",
    "pp.pprint(regr.grid_scores_)\n",
    "print('# best_estimator: \\n', regr.best_estimator_)\n",
    "print('# best_score: \\n', regr.best_score_)\n",
    "print('# best_params: \\n', regr.best_params_)\n",
    "print('# feature_importances: \\n', regr.best_estimator_.feature_importances_)"
   ]
  },
  {
   "cell_type": "code",
   "execution_count": null,
   "metadata": {
    "collapsed": true
   },
   "outputs": [],
   "source": [
    "# GradientBoosting\n",
    "regr = GridSearchCV(ensemble.GradientBoostingRegressor(), {\n",
    "        'n_estimators': [10, 100, 1000, 10000], # A large number usually results in better performance.\n",
    "        'max_features': ['log2', 'sqrt', 'auto'] # Choosing max_features < n_features leads to a reduction of variance and an increase in bias.\n",
    "    }, n_jobs=-1, cv=round(math.log2(365) * 4))\n",
    "regr.fit(X, y)\n",
    "\n",
    "print('# grid_scores:')\n",
    "pp.pprint(regr.grid_scores_)\n",
    "print('# best_estimator: \\n', regr.best_estimator_)\n",
    "print('# best_score: \\n', regr.best_score_)\n",
    "print('# best_params: \\n', regr.best_params_)\n",
    "print('# feature_importances: \\n', regr.best_estimator_.feature_importances_)"
   ]
  }
 ],
 "metadata": {
  "kernelspec": {
   "display_name": "Python 3",
   "language": "python",
   "name": "python3"
  },
  "language_info": {
   "codemirror_mode": {
    "name": "ipython",
    "version": 3
   },
   "file_extension": ".py",
   "mimetype": "text/x-python",
   "name": "python",
   "nbconvert_exporter": "python",
   "pygments_lexer": "ipython3",
   "version": "3.5.1"
  }
 },
 "nbformat": 4,
 "nbformat_minor": 0
}
