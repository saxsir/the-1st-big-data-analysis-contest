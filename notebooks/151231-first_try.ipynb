{
 "cells": [
  {
   "cell_type": "code",
   "execution_count": 1,
   "metadata": {
    "collapsed": true
   },
   "outputs": [],
   "source": [
    "import numpy as np\n",
    "import scipy as sp\n",
    "import pandas as pd\n",
    "import sklearn as sk"
   ]
  },
  {
   "cell_type": "code",
   "execution_count": 15,
   "metadata": {
    "collapsed": false
   },
   "outputs": [],
   "source": [
    "# 提出フォーマットの読み込み\n",
    "submit = pd.read_csv('../data/original/sample_submit.csv', names=[\n",
    "        \"index\",\n",
    "        \"total_1\", \"total_2\", \"total_3\", \"total_4\", \"total_5\", \"total_6\", \"total_7\",\n",
    "        \"total_8\", \"total_9\", \"total_10\", \"total_11\", \"total_12\", \"total_13\", \"total_14\",\n",
    "        \"inbound_1\", \"inbound_2\", \"inbound_3\", \"inbound_4\", \"inbound_5\", \"inbound_6\", \"inbound_7\",\n",
    "        \"inbound_8\", \"inbound_9\", \"inbound_10\", \"inbound_11\", \"inbound_12\", \"inbound_13\", \"inbound_14\"\n",
    "    ])"
   ]
  },
  {
   "cell_type": "code",
   "execution_count": 41,
   "metadata": {
    "collapsed": false
   },
   "outputs": [],
   "source": [
    "# 観光宿泊者数データ\n",
    "target_train = pd.read_csv('../data/original/target/target_train.csv')\n",
    "target_location = pd.read_csv('../data/original/target/target_location.tsv', delimiter='\\t')\n",
    "prefecture_master = pd.read_csv('../data/original/target/prefecture_master.tsv', delimiter='\\t')\n",
    "category = pd.read_csv('../data/original/target/category.csv')\n",
    "category_master = pd.read_csv('../data/original/target/category_master.tsv')\n",
    "\n",
    "# SNSデータ\n",
    "sns_train = pd.read_csv('../data/original/sns/sns_train.csv')\n",
    "sns_test = pd.read_csv('../data/original/sns/sns_test.csv')\n",
    "\n",
    "# 環境センサーネットワークデータ\n",
    "sensor_train = pd.read_csv('../data/original/sensor/sensor_train.csv')\n",
    "sensor_test = pd.read_csv('../data/original/sensor/sensor_test.csv')\n",
    "sensor_location = pd.read_csv('../data/original/sensor/sensor_location.tsv', delimiter='\\t')\n",
    "\n",
    "# 気象庁データ\n",
    "weather_train = pd.read_csv('../data/original/weather/weather_train.csv')\n",
    "weather_test = pd.read_csv('../data/original/weather/weather_test.csv')\n",
    "weather_location = pd.read_csv('../data/original/weather/weather_location.tsv', delimiter='\\t')\n",
    "\n",
    "# ロケーション付SNSデータ\n",
    "geo_location_train = pd.read_csv('../data/original/geo_location/geo_location_train.csv')\n",
    "geo_location_test = pd.read_csv('../data/original/geo_location/geo_location_test.csv')\n",
    "\n",
    "# 為替データ\n",
    "exchange_train = pd.read_csv('../data/original/exchange/exchange_train.csv')\n",
    "exchange_test = pd.read_csv('../data/original/exchange/exchange_test.csv')"
   ]
  },
  {
   "cell_type": "code",
   "execution_count": null,
   "metadata": {
    "collapsed": true
   },
   "outputs": [],
   "source": []
  }
 ],
 "metadata": {
  "kernelspec": {
   "display_name": "Python 3",
   "language": "python",
   "name": "python3"
  },
  "language_info": {
   "codemirror_mode": {
    "name": "ipython",
    "version": 3
   },
   "file_extension": ".py",
   "mimetype": "text/x-python",
   "name": "python",
   "nbconvert_exporter": "python",
   "pygments_lexer": "ipython3",
   "version": "3.5.1"
  }
 },
 "nbformat": 4,
 "nbformat_minor": 0
}
